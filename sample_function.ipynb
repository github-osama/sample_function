{
  "nbformat": 4,
  "nbformat_minor": 0,
  "metadata": {
    "colab": {
      "provenance": [],
      "authorship_tag": "ABX9TyP3oJfBCraPei8D51pdT3lS",
      "include_colab_link": true
    },
    "kernelspec": {
      "name": "python3",
      "display_name": "Python 3"
    },
    "language_info": {
      "name": "python"
    }
  },
  "cells": [
    {
      "cell_type": "markdown",
      "metadata": {
        "id": "view-in-github",
        "colab_type": "text"
      },
      "source": [
        "<a href=\"https://colab.research.google.com/github/me-osama/sample_function/blob/main/sample_function.ipynb\" target=\"_parent\"><img src=\"https://colab.research.google.com/assets/colab-badge.svg\" alt=\"Open In Colab\"/></a>"
      ]
    },
    {
      "cell_type": "markdown",
      "source": [
        "Python function (using library) that takes a pandas dataframe as input and fills all null values in all columns with the average value of each respective column:"
      ],
      "metadata": {
        "id": "3VD8u8tIk-iN"
      }
    },
    {
      "cell_type": "code",
      "execution_count": 2,
      "metadata": {
        "id": "TSgE5ie5k1V5"
      },
      "outputs": [],
      "source": [
        "import pandas as pd\n",
        "\n",
        "def fill_null_with_mean(df):\n",
        "    # Calculate mean of each column\n",
        "    mean_values = df.mean()\n",
        "\n",
        "    # Fill null values with respective mean value\n",
        "    df.fillna(mean_values, inplace=True)\n",
        "\n",
        "    return df"
      ]
    },
    {
      "cell_type": "code",
      "source": [
        "# Create a sample dataframe\n",
        "df = pd.DataFrame({'A': [1, 2, 3, None, 5],\n",
        "                   'B': [None, 7, 8, 9, 10]})\n",
        "\n",
        "# Call the function to fill null values with mean value\n",
        "df = fill_null_with_mean(df)\n",
        "\n",
        "# Print the updated dataframe\n",
        "print(df)"
      ],
      "metadata": {
        "colab": {
          "base_uri": "https://localhost:8080/"
        },
        "id": "BOVWiBsulQp0",
        "outputId": "ead62e11-55f7-4c0a-9a38-6df4352a2681"
      },
      "execution_count": 3,
      "outputs": [
        {
          "output_type": "stream",
          "name": "stdout",
          "text": [
            "      A     B\n",
            "0  1.00   8.5\n",
            "1  2.00   7.0\n",
            "2  3.00   8.0\n",
            "3  2.75   9.0\n",
            "4  5.00  10.0\n"
          ]
        }
      ]
    },
    {
      "cell_type": "markdown",
      "source": [
        "**In the above example**, the fill_null_with_mean() function calculates the mean of each column using the mean() method and fills null values with the respective mean value using the fillna() method with inplace=True parameter to ensure that the changes are made directly to the original dataframe."
      ],
      "metadata": {
        "id": "2ATVlu8klr0U"
      }
    },
    {
      "cell_type": "markdown",
      "source": [
        "Python function that takes a pandas dataframe as input and fills all null values in all columns with the average value of each respective column, without using any built-in Python or library method or function:"
      ],
      "metadata": {
        "id": "gpoYQm3LlT-1"
      }
    },
    {
      "cell_type": "code",
      "source": [
        "def fill_null_with_mean(df):\n",
        "    # Loop through each column in the dataframe\n",
        "    for col in df.columns:\n",
        "        # Calculate the sum and count of non-null values in the column\n",
        "        col_sum = 0\n",
        "        count = 0\n",
        "        for val in df[col]:\n",
        "            if val is not None:\n",
        "                col_sum += val\n",
        "                count += 1\n",
        "        # Calculate the average value for the column\n",
        "        col_mean = col_sum / count\n",
        "        # Loop through each value in the column\n",
        "        for i in range(len(df[col])):\n",
        "            # If the value is null, replace it with the column's average value\n",
        "            if df[col][i] is None:\n",
        "                df[col][i] = col_mean\n",
        "    return df"
      ],
      "metadata": {
        "id": "fC74MJX8lRUA"
      },
      "execution_count": 4,
      "outputs": []
    },
    {
      "cell_type": "code",
      "source": [
        "# Create a sample dataframe\n",
        "df = pd.DataFrame({'A': [1, 2, 3, None, 5],\n",
        "                   'B': [None, 7, 8, 9, 10]})\n",
        "\n",
        "# Call the function to fill null values with mean value\n",
        "df = fill_null_with_mean(df)\n",
        "\n",
        "# Print the updated dataframe\n",
        "print(df)"
      ],
      "metadata": {
        "colab": {
          "base_uri": "https://localhost:8080/"
        },
        "id": "8NCke0sIlhmh",
        "outputId": "3c32f8bb-7ef8-4c8e-ebb6-76d5de37ca3e"
      },
      "execution_count": 5,
      "outputs": [
        {
          "output_type": "stream",
          "name": "stdout",
          "text": [
            "     A     B\n",
            "0  1.0   NaN\n",
            "1  2.0   7.0\n",
            "2  3.0   8.0\n",
            "3  NaN   9.0\n",
            "4  5.0  10.0\n"
          ]
        }
      ]
    },
    {
      "cell_type": "markdown",
      "source": [
        "**In the above example**, the fill_null_with_mean() function loops through each column in the dataframe, calculates the sum and count of non-null values in the column, calculates the average value for the column, and loops through each value in the column to replace any null value with the column's average value. The function returns the updated dataframe with null values replaced by the respective column's average value."
      ],
      "metadata": {
        "id": "zkTxVsx6lw69"
      }
    },
    {
      "cell_type": "code",
      "source": [],
      "metadata": {
        "id": "P36POTLIljuf"
      },
      "execution_count": null,
      "outputs": []
    }
  ]
}